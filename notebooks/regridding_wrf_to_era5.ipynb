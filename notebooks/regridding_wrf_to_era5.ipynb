{
 "cells": [
  {
   "cell_type": "code",
   "execution_count": null,
   "id": "392c2e0b-23df-4727-9a35-dc9826778618",
   "metadata": {},
   "outputs": [],
   "source": [
    "%load_ext autoreload\n",
    "%autoreload 2\n",
    "\n",
    "\n",
    "import xarray as xr\n",
    "import xwrf\n",
    "import numpy as np\n",
    "import xesmf as xe\n",
    "\n",
    "from postprocess_wrf import postprocess_wrf"
   ]
  },
  {
   "cell_type": "markdown",
   "id": "02254a6b-3b80-405f-ad51-b0a3beb415e7",
   "metadata": {},
   "source": [
    "# Load in wrf"
   ]
  },
  {
   "cell_type": "code",
   "execution_count": null,
   "id": "73ac61f9-3a76-4675-bdb6-b81e5fa60821",
   "metadata": {},
   "outputs": [],
   "source": [
    "wrf_location = \"/home/eric/data/forecast_output/wrfout_d02_2022-08-20_00:00:00\"\n"
   ]
  },
  {
   "cell_type": "code",
   "execution_count": null,
   "id": "865348b7-3dae-46b8-9df8-cf21527297ca",
   "metadata": {},
   "outputs": [],
   "source": [
    "! ls /home/eric/data/forecast_output/"
   ]
  },
  {
   "cell_type": "code",
   "execution_count": null,
   "id": "fa47bcce-d33d-4408-9afb-131cd2b68bb0",
   "metadata": {},
   "outputs": [],
   "source": [
    "wrf_location = \"/home/eric/data/forecast_output/wrfout_d02_2022-08-01_00:00:00_processed.nc\"\n",
    "ds_wrf = xr.open_mfdataset(wrf_location, engine='netcdf4')\n",
    "\n",
    "ds_wrf = ds_wrf.xwrf.postprocess()\n",
    "ds_wrf = ds_wrf.xwrf.destagger()"
   ]
  },
  {
   "cell_type": "code",
   "execution_count": null,
   "id": "65fd67ba-33cf-45ff-b20a-a6b66a015afc",
   "metadata": {},
   "outputs": [],
   "source": [
    "ds_wrf = ds_wrf.rename({\"XLONG\": \"lon\", \"XLAT\": \"lat\"})"
   ]
  },
  {
   "cell_type": "code",
   "execution_count": null,
   "id": "2f59c044-6ad0-4968-9503-5cb1cb29272e",
   "metadata": {},
   "outputs": [],
   "source": [
    "ds_out = xr.Dataset(\n",
    "    {\n",
    "        \"lat\": ([\"lat\"], np.arange(\n",
    "            ((ds_wrf.lat.min().values+0.6)/5).round(1)*5, \n",
    "            ((ds_wrf.lat.max().values-0.6)/5).round(1)*5, \n",
    "            0.25\n",
    "        ), {\"units\": \"degrees_north\"}),\n",
    "        \"lon\": ([\"lon\"], np.arange(\n",
    "            ((ds_wrf.lon.min().values+0.9)/5).round(1)*5, \n",
    "            ((ds_wrf.lon.max().values-0.6)/5).round(1)*5, \n",
    "            0.25\n",
    "        ), {\"units\": \"degrees_east\"}),\n",
    "    }\n",
    ")\n",
    "ds_out"
   ]
  },
  {
   "cell_type": "code",
   "execution_count": null,
   "id": "51b0df4d-28c8-449e-8c38-6637ef64eab3",
   "metadata": {},
   "outputs": [],
   "source": [
    "regridder = xe.Regridder(ds_wrf, ds_out, \"bilinear\")\n",
    "regridder  # print basic regridder information."
   ]
  },
  {
   "cell_type": "code",
   "execution_count": null,
   "id": "a116a7c1-629d-47b8-af61-1e8b38ebdadb",
   "metadata": {},
   "outputs": [],
   "source": [
    "\n",
    "ds_wrf_out = regridder(ds_wrf, keep_attrs=True)\n",
    "ds_wrf_out"
   ]
  },
  {
   "cell_type": "markdown",
   "id": "edddb2ef-c5aa-43be-b9dd-2aa9b1efcc72",
   "metadata": {},
   "source": [
    "# Standardizing height levels"
   ]
  },
  {
   "cell_type": "code",
   "execution_count": null,
   "id": "d5a15758-0308-4cc3-bd81-05300ccd73dc",
   "metadata": {},
   "outputs": [],
   "source": [
    "wrf_location = \"/home/eric/data/forecast_output/wrfout_d02_2022-08-01_00:00:00\"\n",
    "ds_wrf = xr.open_mfdataset(wrf_location)"
   ]
  },
  {
   "cell_type": "code",
   "execution_count": null,
   "id": "4481c9ab-bdbb-4bde-b85d-602c76c99014",
   "metadata": {
    "tags": []
   },
   "outputs": [],
   "source": [
    "ds_wrf"
   ]
  },
  {
   "cell_type": "code",
   "execution_count": null,
   "id": "a3c960ea-d2c9-4a46-8a6d-a37a2d505379",
   "metadata": {},
   "outputs": [],
   "source": [
    "ds_wrf_out = postprocess_wrf(wrf_location)"
   ]
  },
  {
   "cell_type": "code",
   "execution_count": null,
   "id": "ed67ecdf-f0ff-43f5-8e31-b836474fb84d",
   "metadata": {},
   "outputs": [],
   "source": [
    "ds_wrf_out"
   ]
  },
  {
   "cell_type": "markdown",
   "id": "c70c03ea-eb99-4b9f-8e31-e9db78a741e9",
   "metadata": {},
   "source": [
    "# Doing the above in a single method:"
   ]
  },
  {
   "cell_type": "code",
   "execution_count": null,
   "id": "59580981-7eda-4a4a-ab18-c21d45fc22c5",
   "metadata": {},
   "outputs": [],
   "source": [
    "ds_wrf_out = postprocess_wrf(wrf_location)"
   ]
  },
  {
   "cell_type": "code",
   "execution_count": null,
   "id": "e7007727-4340-4e89-a053-31487d1b0fa4",
   "metadata": {},
   "outputs": [],
   "source": [
    "ds_wrf_out['V'][13, 0, :, :].plot()"
   ]
  },
  {
   "cell_type": "code",
   "execution_count": null,
   "id": "7c7ac005-98bf-4e1c-bcc0-f7837e5d84c4",
   "metadata": {},
   "outputs": [],
   "source": [
    "(ds_wrf_out['T2']-273.15).clip(0)[17, :, :].plot()"
   ]
  },
  {
   "cell_type": "code",
   "execution_count": null,
   "id": "c006d9c0-2b24-4e1c-a2c3-5c6dac7a66fc",
   "metadata": {},
   "outputs": [],
   "source": [
    "ds_wrf_out = ds_wrf_out.drop(['XTIME', 'x_stag', 'y_stag', 'z_stag'])"
   ]
  },
  {
   "cell_type": "code",
   "execution_count": null,
   "id": "f6080233-a0ca-4d4f-a3f9-6c05987e9125",
   "metadata": {},
   "outputs": [],
   "source": [
    "ds_wrf_out[['U', 'V', 'T2', 'U10', 'V10']]"
   ]
  },
  {
   "cell_type": "code",
   "execution_count": null,
   "id": "aec664a1-5e51-4f7f-9c33-64479ca107e0",
   "metadata": {},
   "outputs": [],
   "source": [
    "ds_wrf_out[['U', 'V', 'T2', 'U10', 'V10']].to_netcdf(\"/home/eric/data/forecast_output_processed/wrfout.nc\")"
   ]
  },
  {
   "cell_type": "code",
   "execution_count": null,
   "id": "ec3a8f7e-df3a-4a01-bf8b-febdccee3d52",
   "metadata": {},
   "outputs": [],
   "source": []
  }
 ],
 "metadata": {
  "kernelspec": {
   "display_name": "Python 3 (ipykernel)",
   "language": "python",
   "name": "python3"
  },
  "language_info": {
   "codemirror_mode": {
    "name": "ipython",
    "version": 3
   },
   "file_extension": ".py",
   "mimetype": "text/x-python",
   "name": "python",
   "nbconvert_exporter": "python",
   "pygments_lexer": "ipython3",
   "version": "3.10.8"
  }
 },
 "nbformat": 4,
 "nbformat_minor": 5
}
