{
 "cells": [
  {
   "cell_type": "code",
   "execution_count": null,
   "id": "9a2eaf22-ed92-4d9b-a59e-5a7ab196808d",
   "metadata": {},
   "outputs": [],
   "source": [
    "import xarray as xr\n",
    "import numpy as np\n",
    "import pandas as pd\n",
    "import pendulum\n",
    "import requests\n",
    "import matplotlib.pyplot as plt"
   ]
  },
  {
   "cell_type": "code",
   "execution_count": null,
   "id": "033433fa-08be-4a78-a3a4-510d62345ecb",
   "metadata": {},
   "outputs": [],
   "source": [
    "def select_point(ds, lat, lon):\n",
    "    # First, find the index of the grid point nearest a specific lat/lon.   \n",
    "    abslat = np.abs(ds.XLAT[0]-lat)\n",
    "    abslon = np.abs(ds.XLONG[0]-lon)\n",
    "    c = np.maximum(abslon, abslat)\n",
    "\n",
    "    ([xloc], [yloc]) = np.where(c == np.min(c))\n",
    "\n",
    "    # Now I can use that index location to get the values at the x/y diminsion\n",
    "    return ds.sel(south_north=xloc, west_east=yloc)"
   ]
  },
  {
   "cell_type": "code",
   "execution_count": null,
   "id": "b1ab63ba-6bbc-4bff-b08d-bbf46ada56bd",
   "metadata": {},
   "outputs": [],
   "source": [
    "filename = \"data/wrfout_d01_2022-07-17_00:00:00\""
   ]
  },
  {
   "cell_type": "code",
   "execution_count": null,
   "id": "7bc332a7-5166-4475-b14d-582108edfde5",
   "metadata": {},
   "outputs": [],
   "source": [
    "ds = xr.load_dataset(filename, engine=\"netcdf4\")\n",
    "\n",
    "start = pendulum.datetime(2022, 7, 17)\n",
    "end = start.add(hours=3*4)\n",
    "\n",
    "period = pendulum.period(start, end)\n",
    "\n",
    "ds = ds.assign_coords({\"Time\": list(period.range(\"hours\", 3))})\n",
    "ds[\"windspeed\"] = np.sqrt((ds[\"U10\"]**2 + ds[\"V10\"]**2))\n",
    "ds[\"wind_direction\"] = (np.rad2deg(np.arctan(ds[\"V10\"] / ds[\"U10\"])) * 2)"
   ]
  },
  {
   "cell_type": "code",
   "execution_count": null,
   "id": "17dba8b3-3b7f-49a7-9485-4560ac94646f",
   "metadata": {},
   "outputs": [],
   "source": []
  },
  {
   "cell_type": "code",
   "execution_count": null,
   "id": "7370834a-c445-4d80-b481-1a469591f8b6",
   "metadata": {},
   "outputs": [],
   "source": [
    "ds[\"windspeed\"][0].plot()"
   ]
  },
  {
   "cell_type": "code",
   "execution_count": null,
   "id": "dbea4fae-bcbd-4be6-9297-c4190fa3f658",
   "metadata": {},
   "outputs": [],
   "source": [
    "ds[\"wind_direction\"][0].plot()"
   ]
  },
  {
   "cell_type": "code",
   "execution_count": null,
   "id": "54502f80-a49b-43af-b062-67e74f1be50a",
   "metadata": {},
   "outputs": [],
   "source": [
    "ds[\"T2\"][0].plot()"
   ]
  },
  {
   "cell_type": "code",
   "execution_count": null,
   "id": "71637dd7-f221-485c-8578-31806dd83c9a",
   "metadata": {},
   "outputs": [],
   "source": []
  },
  {
   "cell_type": "code",
   "execution_count": null,
   "id": "c0b223ab-e2b3-4c7d-9efb-c9bee606d1ad",
   "metadata": {},
   "outputs": [],
   "source": [
    "timestep = 0\n",
    "lats = ds.coords['XLAT'][timestep]  # extract/copy the data\n",
    "lons = ds.coords['XLONG'][timestep]\n",
    "temp = ds.variables['T2'][timestep] - 273\n",
    "\n",
    "fig, axs = plt.subplots(figsize=(8, 7), nrows=2,ncols=1,gridspec_kw={'height_ratios': [20,1.5]},constrained_layout=True)\n",
    "pcm=axs[0].pcolormesh(lons,lats,temp,cmap='viridis')\n",
    "cbar=fig.colorbar(pcm,cax=axs[1], extend='both', orientation='horizontal')\n",
    "cbar.set_label('Temperature$')"
   ]
  },
  {
   "cell_type": "code",
   "execution_count": null,
   "id": "9c4ca8d5-e3f9-4cda-8cec-62c2a9c30fc1",
   "metadata": {},
   "outputs": [],
   "source": [
    "timestep = 0\n",
    "lats = ds.coords['XLAT'][timestep]  # extract/copy the data\n",
    "lons = ds.coords['XLONG'][timestep]\n",
    "temp = ds.variables['windspeed'][timestep]\n",
    "\n",
    "fig, axs = plt.subplots(figsize=(8, 7), nrows=2,ncols=1,gridspec_kw={'height_ratios': [20,1.5]},constrained_layout=True)\n",
    "pcm=axs[0].pcolormesh(lons,lats,temp,cmap='viridis')\n",
    "cbar=fig.colorbar(pcm,cax=axs[1], extend='both', orientation='horizontal')\n",
    "cbar.set_label('Windspeed')"
   ]
  },
  {
   "cell_type": "code",
   "execution_count": null,
   "id": "7188c72c-4bf2-4b06-9e14-5272972796f0",
   "metadata": {},
   "outputs": [],
   "source": [
    "# I want to find the speed at a certain lat/lon point.\n",
    "lat = 21.22\n",
    "lon = -122.68\n",
    "def select_point(ds, lat, lon):\n",
    "    # First, find the index of the grid point nearest a specific lat/lon.   \n",
    "    abslat = np.abs(ds.XLAT[0]-lat)\n",
    "    abslon = np.abs(ds.XLONG[0]-lon)\n",
    "    c = np.maximum(abslon, abslat)\n",
    "\n",
    "    ([xloc], [yloc]) = np.where(c == np.min(c))\n",
    "\n",
    "    # Now I can use that index location to get the values at the x/y diminsion\n",
    "    return ds.sel(south_north=xloc, west_east=yloc)"
   ]
  },
  {
   "cell_type": "code",
   "execution_count": null,
   "id": "3d4c8061-1567-442d-b33e-15c4b42e3802",
   "metadata": {},
   "outputs": [],
   "source": [
    "# I want to find the speed at a certain lat/lon point.\n",
    "lat = 21.22\n",
    "lon = -122.68\n",
    "point_ds = select_point(ds, lat, lon)\n"
   ]
  },
  {
   "cell_type": "code",
   "execution_count": null,
   "id": "a9afb903-b3cc-4d3b-9e44-84ec3cfc8dbf",
   "metadata": {},
   "outputs": [],
   "source": [
    "point_ds[\"T2\"].plot()"
   ]
  },
  {
   "cell_type": "code",
   "execution_count": null,
   "id": "2a3fef6e-525e-47bf-a17d-1633b2701903",
   "metadata": {},
   "outputs": [],
   "source": [
    "ds"
   ]
  },
  {
   "cell_type": "markdown",
   "id": "b935ad70-3c37-41d0-a231-c3e192d2b4f5",
   "metadata": {},
   "source": [
    "# Upload file to api\n",
    "data format:"
   ]
  },
  {
   "cell_type": "raw",
   "id": "ba12cc15-8733-4ccc-9262-286900d5d993",
   "metadata": {},
   "source": [
    "{\n",
    "    \"Location\": \"Amsterdam\",\n",
    "    \"Timestamp\": \"2022-09-01T04:00:00Z\",\n",
    "    \"Forecast_timestamp\": \"2022-08-31T12:00:00Z\",\n",
    "    \"windspeed\": 7,\n",
    "    \"wind_direction\": 240,\n",
    "    \"temperature\": 295,\n",
    "    \"rain\": 0.1\n",
    "}"
   ]
  },
  {
   "cell_type": "code",
   "execution_count": null,
   "id": "648c0382-699a-44a9-88a6-b3f8433470a8",
   "metadata": {},
   "outputs": [],
   "source": [
    "# I want to find the speed at a certain lat/lon point.\n",
    "lat = 21.22\n",
    "lon = -122.68\n",
    "point_ds = select_point(ds, lat, lon)"
   ]
  },
  {
   "cell_type": "code",
   "execution_count": null,
   "id": "740d4a09-2925-4772-a2f9-b185e33eff9b",
   "metadata": {},
   "outputs": [],
   "source": [
    "point_ds.attrs[\"SIMULATION_START_DATE\"]"
   ]
  },
  {
   "cell_type": "code",
   "execution_count": null,
   "id": "fd26d8f4-9e06-4ae6-84af-f950bc4a8da7",
   "metadata": {
    "tags": []
   },
   "outputs": [],
   "source": []
  },
  {
   "cell_type": "code",
   "execution_count": null,
   "id": "71a08be6-0b41-4984-bf37-ef6f28fd888f",
   "metadata": {
    "tags": []
   },
   "outputs": [],
   "source": [
    "point_ds.keys()"
   ]
  },
  {
   "cell_type": "code",
   "execution_count": null,
   "id": "ae4207c1-4bfc-4c64-9c1b-827cbf29a4db",
   "metadata": {
    "tags": []
   },
   "outputs": [],
   "source": [
    "variables = list(point_ds.keys())\n",
    "variables.sort()\n",
    "variables"
   ]
  },
  {
   "cell_type": "code",
   "execution_count": null,
   "id": "813fb713-9a26-4b9b-8e03-49675073c778",
   "metadata": {},
   "outputs": [],
   "source": [
    "ts = pd.to_datetime(str(time.values)).strftime('%Y.%m.%d')"
   ]
  },
  {
   "cell_type": "code",
   "execution_count": null,
   "id": "55c6543c-8e6d-4ff5-9f50-63c62847b1aa",
   "metadata": {},
   "outputs": [],
   "source": [
    "\"2022-09-01T04:00:00Z\""
   ]
  },
  {
   "cell_type": "code",
   "execution_count": null,
   "id": "2438e9e3-5fa1-4ca0-8317-8da5f649ec57",
   "metadata": {},
   "outputs": [],
   "source": [
    "json_arr = []\n",
    "\n",
    "forecast_timestamp = pd.to_datetime(\n",
    "    point_ds.attrs[\"SIMULATION_START_DATE\"], \n",
    "    format=\"%Y-%m-%d_%H:%M:%S\"\n",
    ").strftime('%Y-%m-%dT%H:%M:%SZ')\n",
    "\n",
    "\n",
    "for i, time in enumerate(point_ds.Time):\n",
    "    json_arr.append({\n",
    "        \"Location\": \"Amsterdam\",\n",
    "        \"Timestamp\": pd.to_datetime(str(time.values)).strftime('%Y-%m-%dT%H:%M:%SZ'),\n",
    "        \"Forecast_timestamp\": forecast_timestamp,\n",
    "        \"windspeed\": point_ds[\"windspeed\"][i].item(),\n",
    "        \"wind_direction\": point_ds[\"wind_direction\"][i].item(),\n",
    "        \"temperature\": point_ds[\"T2\"][i].item(),\n",
    "        \"rain\": point_ds[\"RAINNC\"][i].item()\n",
    "    })\n",
    "json_arr"
   ]
  },
  {
   "cell_type": "code",
   "execution_count": null,
   "id": "0750bb70-3410-47e2-a1e7-26eaa1eee4c1",
   "metadata": {},
   "outputs": [],
   "source": [
    "r = requests.post(\"http://localhost:8080/v1/weather\", json=json_arr)\n",
    "r.raise_for_status()"
   ]
  },
  {
   "cell_type": "code",
   "execution_count": null,
   "id": "10d39c15-568f-443e-b496-098c114facca",
   "metadata": {},
   "outputs": [],
   "source": [
    "point_ds[\"T2\"]"
   ]
  },
  {
   "cell_type": "code",
   "execution_count": null,
   "id": "4275ee86-b364-4a49-a4b7-cf4ea22e2dfa",
   "metadata": {},
   "outputs": [],
   "source": [
    "point_ds[\"windspeed\"]"
   ]
  },
  {
   "cell_type": "code",
   "execution_count": null,
   "id": "24fc63e2-ac42-4080-9c4b-50aa4c1364bd",
   "metadata": {},
   "outputs": [],
   "source": [
    "point_ds[\"wind_direction\"]"
   ]
  },
  {
   "cell_type": "code",
   "execution_count": null,
   "id": "2d473ea4-206c-4bdb-bd81-2a19596b69d3",
   "metadata": {},
   "outputs": [],
   "source": [
    " # 'RAINC',\n",
    " # 'RAINNC',\n",
    " # 'RAINSH',\n",
    "    \n",
    "point_ds[\"RAINNC\"]"
   ]
  },
  {
   "cell_type": "code",
   "execution_count": null,
   "id": "de1ab637-938d-481a-af62-2fa286a4f994",
   "metadata": {},
   "outputs": [],
   "source": []
  }
 ],
 "metadata": {
  "kernelspec": {
   "display_name": "weatherenv",
   "language": "python",
   "name": "weatherenv"
  },
  "language_info": {
   "codemirror_mode": {
    "name": "ipython",
    "version": 3
   },
   "file_extension": ".py",
   "mimetype": "text/x-python",
   "name": "python",
   "nbconvert_exporter": "python",
   "pygments_lexer": "ipython3",
   "version": "3.9.9"
  }
 },
 "nbformat": 4,
 "nbformat_minor": 5
}
