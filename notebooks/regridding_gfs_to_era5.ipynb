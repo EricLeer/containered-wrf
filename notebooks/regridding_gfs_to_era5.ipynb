{
 "cells": [
  {
   "cell_type": "code",
   "execution_count": null,
   "id": "2fd6d932-a1d5-4db1-a335-7a62db9e3de2",
   "metadata": {},
   "outputs": [],
   "source": [
    "import xarray as xr\n",
    "\n",
    "import pandas as pd\n",
    "import numpy as np"
   ]
  },
  {
   "cell_type": "markdown",
   "id": "646640ab-12b4-4dea-aabc-8134c821de57",
   "metadata": {},
   "source": [
    "I currently seem to have gfs forecasts starting from april till september."
   ]
  },
  {
   "cell_type": "code",
   "execution_count": null,
   "id": "30318768-c598-4cf9-974c-a7d4d896d570",
   "metadata": {
    "tags": []
   },
   "outputs": [],
   "source": [
    "gfs_location = \"/home/eric/data/gfs_forecasts/gfs.0p25.2022080100.f000.grib2\"\n",
    "ds = xr.load_dataset(gfs_location, engine=\"cfgrib\", filter_by_keys={'typeOfLevel': 'isobaricInhPa'})"
   ]
  },
  {
   "cell_type": "markdown",
   "id": "703d7ea0-74c1-4428-bf80-17dd8c77013a",
   "metadata": {},
   "source": [
    "# Opening multiple gfs files:"
   ]
  },
  {
   "cell_type": "code",
   "execution_count": null,
   "id": "2b93f0ed-27ec-49f4-9a54-1f5b3c1b76a9",
   "metadata": {},
   "outputs": [],
   "source": [
    "start = \"2022-08-01\"\n",
    "end = \"2022-08-31\"\n",
    "\n",
    "forecast_days = [day.strftime(\"%Y%m%d%H\") for day in pd.date_range(start=start, end=end, freq=\"1D\")]\n",
    "base_string = \"/home/eric/data/gfs_forecasts/\"\n",
    "skip_day_list = [\n",
    "    \"2022040700\",\n",
    "    \"2022061500\"\n",
    "]\n",
    "multi_filename = []\n",
    "for day in forecast_days:\n",
    "    if day in skip_day_list:\n",
    "        continue\n",
    "    file_names = []\n",
    "    for ahead_time in np.arange(0,24, 3):\n",
    "        file_names.append(base_string + f\"gfs.0p25.{day}.f{ahead_time:03d}.grib2\")\n",
    "    multi_filename.append(file_names)"
   ]
  },
  {
   "cell_type": "code",
   "execution_count": null,
   "id": "45a799e9-77f2-4982-a806-305cad31a61e",
   "metadata": {
    "tags": []
   },
   "outputs": [],
   "source": [
    "ds_multi = xr.open_mfdataset(multi_filename, combine='nested', concat_dim=['time', 'step'], filter_by_keys={'stepType': 'instant', 'typeOfLevel': 'isobaricInhPa'})"
   ]
  },
  {
   "cell_type": "code",
   "execution_count": null,
   "id": "3595a0ac-48ee-4da8-bb87-c847b95fe50a",
   "metadata": {},
   "outputs": [],
   "source": [
    "ds_multi = ds_multi.rename({'time': 'run_date'})\n",
    "ds_multi_new = ds_multi.stack(time=['run_date', 'step'])\n",
    "ds_multi_new = ds_multi_new.drop_vars({'time', 'run_date', 'step'}).assign_coords({\"time\": ds_multi_new.valid_time})"
   ]
  },
  {
   "cell_type": "code",
   "execution_count": null,
   "id": "ab6d8a93-93b3-4096-a118-dc30c1a94d84",
   "metadata": {},
   "outputs": [],
   "source": [
    "ds_multi_new['t'][0, 50, 50, :].plot()"
   ]
  },
  {
   "cell_type": "code",
   "execution_count": null,
   "id": "dea522ae-0782-4885-874e-9eea7da10545",
   "metadata": {},
   "outputs": [],
   "source": [
    "ds_multi_new.to_netcdf(\"/home/eric/data/gfs_forecasts_processed/gfs_processed_august.nc\")"
   ]
  },
  {
   "cell_type": "markdown",
   "id": "d16e1ab4-5830-4d21-9f4a-1879ef255339",
   "metadata": {},
   "source": [
    "# Parsing GFS for weather stations"
   ]
  },
  {
   "cell_type": "code",
   "execution_count": null,
   "id": "f1eb2b05-dabc-4ff3-b0b3-6850fee31d47",
   "metadata": {},
   "outputs": [],
   "source": [
    "start = \"2022-08-01\"\n",
    "end = \"2022-08-31\"\n",
    "\n",
    "forecast_days = [day.strftime(\"%Y%m%d%H\") for day in pd.date_range(start=start, end=end, freq=\"1D\")]\n",
    "base_string = \"/home/eric/data/gfs_forecasts/\"\n",
    "skip_day_list = [\n",
    "    \"2022040700\",\n",
    "    \"2022061500\"\n",
    "]\n",
    "multi_filename = []\n",
    "for day in forecast_days:\n",
    "    if day in skip_day_list:\n",
    "        continue\n",
    "    file_names = []\n",
    "    for ahead_time in np.arange(0,24, 3):\n",
    "        file_names.append(base_string + f\"gfs.0p25.{day}.f{ahead_time:03d}.grib2\")\n",
    "    multi_filename.append(file_names)"
   ]
  },
  {
   "cell_type": "code",
   "execution_count": null,
   "id": "d5d358ba-0150-4b23-b0a6-82369b9fcd2c",
   "metadata": {},
   "outputs": [],
   "source": [
    "ds_multi = xr.open_mfdataset(multi_filename, combine='nested', concat_dim=['time', 'step'], filter_by_keys={'stepType': 'instant', 'typeOfLevel': 'surface'})"
   ]
  },
  {
   "cell_type": "code",
   "execution_count": null,
   "id": "ef0ad149-be32-4886-8b38-5623485cbdba",
   "metadata": {},
   "outputs": [],
   "source": [
    "ds_multi = ds_multi.rename({'time': 'run_date'})\n",
    "ds_multi_new = ds_multi.stack(time=['run_date', 'step'])\n",
    "ds_multi_new = ds_multi_new.drop_vars({'time', 'run_date', 'step'}).assign_coords({\"time\": ds_multi_new.valid_time})"
   ]
  },
  {
   "cell_type": "code",
   "execution_count": null,
   "id": "6537b7b2-6cbd-4f30-824e-b78a94ec4930",
   "metadata": {},
   "outputs": [],
   "source": [
    "ds_multi_new.to_netcdf(\"/home/eric/data/gfs_forecasts_processed/gfs_processed_surface_august.nc\")"
   ]
  },
  {
   "cell_type": "code",
   "execution_count": null,
   "id": "3708176c-074d-4792-8fcf-551bfa1050fd",
   "metadata": {},
   "outputs": [],
   "source": [
    "! ls /home/eric/data/gfs_forecasts_processed/"
   ]
  },
  {
   "cell_type": "code",
   "execution_count": null,
   "id": "d5845c72-ce1c-409f-a3a8-aa65dbf30b50",
   "metadata": {},
   "outputs": [],
   "source": []
  }
 ],
 "metadata": {
  "kernelspec": {
   "display_name": "Python 3 (ipykernel)",
   "language": "python",
   "name": "python3"
  },
  "language_info": {
   "codemirror_mode": {
    "name": "ipython",
    "version": 3
   },
   "file_extension": ".py",
   "mimetype": "text/x-python",
   "name": "python",
   "nbconvert_exporter": "python",
   "pygments_lexer": "ipython3",
   "version": "3.10.8"
  }
 },
 "nbformat": 4,
 "nbformat_minor": 5
}
